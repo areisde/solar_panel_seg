{
 "cells": [
  {
   "cell_type": "markdown",
   "id": "96d20c17-11fe-4afd-a559-9f8bd156f42d",
   "metadata": {},
   "source": [
    "# Goals and methods\n",
    "In this notebook, we will be using 'Segmentation_models.pytorch' to setup the different neural network architectures and experiment with different parameters. We will be using 'Albumentations' for data augmentation, given we have a pretty small dataset to work with. The whole implementation is based on pytorch, so that will be the 'glue' in our project, to put it all together"
   ]
  },
  {
   "cell_type": "markdown",
   "id": "cbd6bea2-a886-4c40-92fa-540fc9971b65",
   "metadata": {},
   "source": [
    "# 1. Imports"
   ]
  },
  {
   "cell_type": "code",
   "execution_count": 9,
   "id": "0cdb1160-a3cb-4818-a9e7-29d8a03a38a0",
   "metadata": {},
   "outputs": [],
   "source": [
    "# Data tools\n",
    "import os\n",
    "os.environ['CUDA_VISIBLE_DEVICES'] = '0'\n",
    "import numpy as np\n",
    "import json\n",
    "\n",
    "# Data visualization\n",
    "import cv2\n",
    "import matplotlib.pyplot as plt\n",
    "from PIL import Image, ImageDraw\n",
    "\n",
    "# Data loading\n",
    "from torch.utils.data import DataLoader\n",
    "from torch.utils.data import Dataset as BaseDataset"
   ]
  },
  {
   "cell_type": "markdown",
   "id": "9a66b1f3-3c57-44e2-a8cd-1c8ff921e54a",
   "metadata": {},
   "source": [
    "# 2. Loading dataset"
   ]
  },
  {
   "cell_type": "markdown",
   "id": "c60740af-0c05-4c1b-be8b-f9664d8ae0d8",
   "metadata": {},
   "source": [
    "### 2.1. Directories"
   ]
  },
  {
   "cell_type": "code",
   "execution_count": 4,
   "id": "11eb9c8b-2133-43f3-aefe-e25a1473260f",
   "metadata": {},
   "outputs": [],
   "source": [
    "# Global data directory\n",
    "DATA_DIR = './data/'\n",
    "\n",
    "# Train dataset directory\n",
    "train_file = os.path.join(DATA_DIR, 'train.json')\n",
    "#x_train_dir = os.path.join(DATA_DIR, 'train.json')\n",
    "#y_train_dir = os.path.join(DATA_DIR, 'trainannot')\n",
    "\n",
    "# Validation dataset directory\n",
    "val_file = os.path.join(DATA_DIR, 'val.json')\n",
    "#x_valid_dir = os.path.join(DATA_DIR, 'val')\n",
    "#y_valid_dir = os.path.join(DATA_DIR, 'valannot')\n",
    "\n",
    "# Testing dataset directory\n",
    "test_file = os.path.join(DATA_DIR, 'test.json')\n",
    "#x_test_dir = os.path.join(DATA_DIR, 'test')\n",
    "#y_test_dir = os.path.join(DATA_DIR, 'testannot')"
   ]
  },
  {
   "cell_type": "markdown",
   "id": "ba04e426-4fd7-4dc8-bef0-4c55ce25fdec",
   "metadata": {},
   "source": [
    "### 2.2. From polygon points to mask\n",
    "Our dataset is built different from the one in the tutorial which uses images and masks in image shape for the annotations. Ours is a list of points of a polygon for the annotations, so we fit ours to the method we're using through this function."
   ]
  },
  {
   "cell_type": "code",
   "execution_count": 3,
   "id": "6aeade5d-bba4-4c0a-a03d-ec5b7d841c5d",
   "metadata": {},
   "outputs": [],
   "source": [
    "def pol_to_mask(img_width, img_height, pol_array):\n",
    "    img = Image.new('L', (img_width, img_height), 0)\n",
    "    ImageDraw.Draw(img).polygon(pol_array, outline=1, fill=1)\n",
    "    mask = np.array(img)\n",
    "    \n",
    "    return mask"
   ]
  },
  {
   "cell_type": "markdown",
   "id": "84e8b4e8-7c12-4d49-a6da-451df2206415",
   "metadata": {},
   "source": [
    "### 2.3. Visualization"
   ]
  },
  {
   "cell_type": "code",
   "execution_count": 5,
   "id": "0a585316-389e-4254-b441-153db080844a",
   "metadata": {},
   "outputs": [],
   "source": [
    "def visualize(**images):\n",
    "    \"\"\"PLot images in one row.\"\"\"\n",
    "    n = len(images)\n",
    "    plt.figure(figsize=(16, 5))\n",
    "    for i, (name, image) in enumerate(images.items()):\n",
    "        plt.subplot(1, n, i + 1)\n",
    "        plt.xticks([])\n",
    "        plt.yticks([])\n",
    "        plt.title(' '.join(name.split('_')).title())\n",
    "        plt.imshow(image)\n",
    "    plt.show()"
   ]
  },
  {
   "cell_type": "markdown",
   "id": "8e288b36-1c4a-445a-8907-59df86a11612",
   "metadata": {},
   "source": [
    "### 2.3. Dataloader\n",
    "Helper class for data extraction, transformation and preprocessing."
   ]
  },
  {
   "cell_type": "code",
   "execution_count": 8,
   "id": "04043c9d-1631-4375-bd2f-f479ca53c82d",
   "metadata": {},
   "outputs": [],
   "source": [
    "class Dataset(BaseDataset):\n",
    "    \"\"\"Solar Panel dataset. Read images, apply augmentation and preprocessing transformations.\n",
    "    \n",
    "    Args:\n",
    "        images_dir (str): path to images folder\n",
    "        masks_dir (str): path to segmentation masks folder\n",
    "        class_values (list): values of classes to extract from segmentation mask\n",
    "        augmentation (albumentations.Compose): data transfromation pipeline \n",
    "            (e.g. flip, scale, etc.)\n",
    "        preprocessing (albumentations.Compose): data preprocessing \n",
    "            (e.g. noralization, shape manipulation, etc.)\n",
    "    \n",
    "    \"\"\"\n",
    "    \n",
    "    CLASSES = ['solar panel']\n",
    "    \n",
    "    def __init__(\n",
    "            self, \n",
    "            data_dir,\n",
    "            #images_dir, \n",
    "            masks_dir, \n",
    "            classes=None, \n",
    "            augmentation=None, \n",
    "            preprocessing=None,\n",
    "    ):\n",
    "        \n",
    "        # Opening Json file with data and storing it in array\n",
    "        with open(data_dir) as json_file:\n",
    "            data_file = json.load(json_file)\n",
    "        \n",
    "        # Recovering image ids\n",
    "        ids = []\n",
    "        imgs_dir = []\n",
    "        for image_data in data_file['images']:\n",
    "            ids.append(image_data['id'])\n",
    "            imgs_dir.append(image_data['file_name'])\n",
    "        \n",
    "        self.ids = ids\n",
    "        \n",
    "        \n",
    "        #self.ids = os.listdir(images_dir)\n",
    "        self.images_fps = [os.path.join(images_dir, image_id) for image_id in self.ids]\n",
    "        self.masks_fps = [os.path.join(masks_dir, image_id) for image_id in self.ids]\n",
    "        \n",
    "        # convert str names to class values on masks\n",
    "        self.class_values = [self.CLASSES.index(cls.lower()) for cls in classes]\n",
    "        \n",
    "        self.augmentation = augmentation\n",
    "        self.preprocessing = preprocessing\n",
    "    \n",
    "    def __getitem__(self, i):\n",
    "        \n",
    "        # read data\n",
    "        image = cv2.imread(self.images_fps[i])\n",
    "        image = cv2.cvtColor(image, cv2.COLOR_BGR2RGB)\n",
    "        mask = cv2.imread(self.masks_fps[i], 0)\n",
    "        \n",
    "        # extract certain classes from mask (e.g. cars)\n",
    "        masks = [(mask == v) for v in self.class_values]\n",
    "        mask = np.stack(masks, axis=-1).astype('float')\n",
    "        \n",
    "        # apply augmentations\n",
    "        if self.augmentation:\n",
    "            sample = self.augmentation(image=image, mask=mask)\n",
    "            image, mask = sample['image'], sample['mask']\n",
    "        \n",
    "        # apply preprocessing\n",
    "        if self.preprocessing:\n",
    "            sample = self.preprocessing(image=image, mask=mask)\n",
    "            image, mask = sample['image'], sample['mask']\n",
    "            \n",
    "        return image, mask\n",
    "        \n",
    "    def __len__(self):\n",
    "        return len(self.ids)"
   ]
  }
 ],
 "metadata": {
  "kernelspec": {
   "display_name": "Python 3",
   "language": "python",
   "name": "python3"
  },
  "language_info": {
   "codemirror_mode": {
    "name": "ipython",
    "version": 3
   },
   "file_extension": ".py",
   "mimetype": "text/x-python",
   "name": "python",
   "nbconvert_exporter": "python",
   "pygments_lexer": "ipython3",
   "version": "3.8.8"
  }
 },
 "nbformat": 4,
 "nbformat_minor": 5
}
