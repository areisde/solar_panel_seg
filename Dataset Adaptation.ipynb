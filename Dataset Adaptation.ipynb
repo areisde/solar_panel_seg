{
 "cells": [
  {
   "cell_type": "markdown",
   "id": "eefc3525-ab0c-49ae-b48c-a5a52a6ced0f",
   "metadata": {},
   "source": [
    "# From Intello to our usage : dataset adaptation\n",
    "This notebook only needs to be ran once. After this, the dataset is ready for our implementation.\n",
    "This notebook must be placed next to the \"data\" folder and the \"data\" needs to contain only the following : \n",
    "* \"images\" folder with all the images\n",
    "* test.json with the information of which images belong to the test dataset and their segmentation\n",
    "* train.json with the information of which images belong to the train dataset and their segmentation\n",
    "* val.json with the information of which images belong to the test dataset and their segmentation"
   ]
  },
  {
   "cell_type": "markdown",
   "id": "f0dc4f82-32d2-4121-a617-082ad6cd49ab",
   "metadata": {},
   "source": [
    "### Imports"
   ]
  },
  {
   "cell_type": "code",
   "execution_count": null,
   "id": "97dbba28-2afa-42af-b5f5-7a718c0c817b",
   "metadata": {},
   "outputs": [],
   "source": [
    "import json\n",
    "import os\n",
    "import PIL\n",
    "from PIL import ImageDraw\n",
    "import numpy as np\n",
    "from pathlib import Path\n",
    "import shutil\n",
    "\n",
    "%matplotlib inline\n",
    "from matplotlib import pyplot as plt\n",
    "import cv2\n",
    "#import rasterio\n",
    "from wand.image import Image"
   ]
  },
  {
   "cell_type": "markdown",
   "id": "c7a75bf1-b0d7-4fe6-8b0f-90b19f16f8f1",
   "metadata": {},
   "source": [
    "### Convert .tiff to .png\n",
    "We did not manage to get coloured images, so we're just using black and white images, by keeping the red channel only."
   ]
  },
  {
   "cell_type": "code",
   "execution_count": null,
   "id": "0456da9f-8c18-4600-97ea-cbe3d3805bd9",
   "metadata": {},
   "outputs": [],
   "source": [
    "for file in os.listdir('data/images'):\n",
    "    if file.endswith('.tif'):\n",
    "        base_dir = 'data/images'\n",
    "        with Image(filename=os.path.join(base_dir,file)) as img:\n",
    "            with img.convert('png') as converted:\n",
    "                dst = file.replace('.tif', '.png')\n",
    "                converted.save(filename=os.path.join(base_dir, dst))\n",
    "        #src = rasterio.open(os.path.join(base_dir, file))\n",
    "        #array = src.read(1) # Get red channel only\n",
    "        #img = Image.fromarray(array)\n",
    "        #dst = file.replace('.tif', '.png')\n",
    "        #img.save(os.path.join(base_dir, dst))\n",
    "        os.remove(path=os.path.join(base_dir, file))"
   ]
  },
  {
   "cell_type": "markdown",
   "id": "3d286fe2-3fd2-4126-a647-f569f86ea9c8",
   "metadata": {},
   "source": [
    "### Rewriting file directories"
   ]
  },
  {
   "cell_type": "code",
   "execution_count": null,
   "id": "7ae3c495-c47c-465f-a4c8-39ece4c4ef0c",
   "metadata": {},
   "outputs": [],
   "source": [
    "base_dir_data = os.path.join('data')\n",
    "data_dirs = ['train.json', 'val.json', 'test.json']\n",
    "\n",
    "for data_dir in data_dirs:\n",
    "    \n",
    "    # Opening Json file with data and storing it in array\n",
    "    with open(os.path.join(base_dir_data, data_dir)) as json_file:\n",
    "        data_file = json.load(json_file)\n",
    "\n",
    "    # Modifying data\n",
    "    for image_data in data_file['images']:\n",
    "        image_data['file_name'] = image_data['file_name'].replace('datasets/INTELLO/solarPanels/v2/images_800x600/', '')\n",
    "        image_data['file_name'] = image_data['file_name'].replace('/data', 'data')\n",
    "        image_data['file_name'] = image_data['file_name'].replace('.tif', '.png')\n",
    "\n",
    "    # Rewriting data back to file\n",
    "    with open(os.path.join(base_dir_data, data_dir), 'w') as outfile:\n",
    "        json.dump(data_file, outfile)"
   ]
  },
  {
   "cell_type": "markdown",
   "id": "1d236718-616f-4479-b785-0cb29515f010",
   "metadata": {},
   "source": [
    "### From polygon points to mask\n",
    "Our dataset is built different from the one in the tutorial we use for this project. The tutorial uses images and masks in image shape for the annotations. Ours is a list of points of a polygon for the annotations, so we fit ours to the method we're using through this function."
   ]
  },
  {
   "cell_type": "code",
   "execution_count": null,
   "id": "554766b8-7050-4720-8267-6a6ddebf9563",
   "metadata": {},
   "outputs": [],
   "source": [
    "def pol_to_mask(img_width, img_height, pol_array):\n",
    "    img = PIL.Image.new('L', (img_width, img_height), 0)\n",
    "    PIL.ImageDraw.Draw(img).polygon(pol_array, outline=1, fill=1)\n",
    "    mask = np.array(img)\n",
    "    \n",
    "    return mask"
   ]
  },
  {
   "cell_type": "markdown",
   "id": "fea18d27-c278-491f-b0aa-175a5aa9c187",
   "metadata": {},
   "source": [
    "### Creating masks and exporting to masks directory\n",
    "As there are mulitple masks per image, to make it easier for now, we will just take all the masks in an image and put them all together as if we only had one mask per image.\n",
    "For coherence, we only keep images for which masks exist."
   ]
  },
  {
   "cell_type": "code",
   "execution_count": null,
   "id": "087c46aa-dc79-4f8c-b9c2-30b5dbb1d0e9",
   "metadata": {},
   "outputs": [],
   "source": [
    "# Image parameters\n",
    "width = 800\n",
    "height = 600\n",
    "\n",
    "# Create masks folder if non existent\n",
    "Path('data/masks').mkdir(parents=True, exist_ok=True)\n",
    "\n",
    "for data_dir in data_dirs:\n",
    "\n",
    "    # Opening Json file with data and storing it in array\n",
    "    with open(os.path.join(base_dir_data, data_dir)) as json_file:\n",
    "        data_file = json.load(json_file)\n",
    "\n",
    "    # Modifying data\n",
    "    for annot_data in data_file['annotations']:\n",
    "        # Create mask as a numpy array\n",
    "        np_mask = pol_to_mask(width, height, annot_data['segmentation'][0])\n",
    "        \n",
    "        # Store mask\n",
    "        mask_name = str(annot_data['image_id']) + '.png'\n",
    "        mask_path = os.path.join(base_dir_data, 'masks', mask_name)\n",
    "        \n",
    "        # Check if we need to complete mask\n",
    "        if os.path.exists(mask_path):\n",
    "            # Import current mask\n",
    "            cur_mask = PIL.Image.open(mask_path)\n",
    "            # Convert image to numpy array\n",
    "            cur_mask_array = np.asarray(cur_mask)\n",
    "            # Merge both masks\n",
    "            np_mask = np.logical_or(np_mask, cur_mask_array)\n",
    "            \n",
    "        # Create image from array\n",
    "        im = PIL.Image.fromarray(np_mask)\n",
    "        \n",
    "        # Save image\n",
    "        im.save(mask_path)"
   ]
  },
  {
   "cell_type": "markdown",
   "id": "26aa7b20-6c5d-44b2-8e8f-783dc13f9117",
   "metadata": {},
   "source": [
    "### Split into correct folders"
   ]
  },
  {
   "cell_type": "code",
   "execution_count": null,
   "id": "758fc497-4db9-492f-840c-d2d30c3f3579",
   "metadata": {},
   "outputs": [],
   "source": [
    "for data_dir in data_dirs:\n",
    "    \n",
    "    # Choose folder names\n",
    "    folder_name = ''\n",
    "    folder_name_annot = ''\n",
    "    \n",
    "    if data_dir == 'train.json':\n",
    "        folder_name = 'train'\n",
    "        folder_name_annot = 'trainannot'\n",
    "    elif data_dir == 'val.json':\n",
    "        folder_name = 'val'\n",
    "        folder_name_annot = 'valannot'\n",
    "    else:\n",
    "        folder_name = 'test'\n",
    "        folder_name_annot = 'testannot'\n",
    "        \n",
    "        \n",
    "    # Opening Json file with data and storing it in array\n",
    "    with open(os.path.join(base_dir_data, data_dir)) as json_file:\n",
    "        data_file = json.load(json_file)\n",
    "    \n",
    "    \n",
    "    # Image and mask paths\n",
    "    img_paths = []\n",
    "    mask_paths = []\n",
    "        \n",
    "    for mask_data in data_file['annotations']:\n",
    "        \n",
    "        # Image paths\n",
    "        image_name = str(mask_data['image_id']) + '.png'\n",
    "        image_path = os.path.join('data/images', image_name)\n",
    "        if image_path not in img_paths:\n",
    "            img_paths.append(image_path)\n",
    "        \n",
    "        # Mask paths\n",
    "        mask_name = str(mask_data['image_id']) + '.png'\n",
    "        mask_path = os.path.join('data/masks', mask_name)\n",
    "        if mask_path not in mask_paths:\n",
    "            mask_paths.append(mask_path)\n",
    "    \n",
    "    \n",
    "    # Create necessary folders if non existent\n",
    "    folder_name_path = os.path.join(base_dir_data, folder_name)\n",
    "    folder_name_annot_path = os.path.join(base_dir_data, folder_name_annot)\n",
    "    \n",
    "    Path(folder_name_path).mkdir(parents=True, exist_ok=True)\n",
    "    Path(folder_name_annot_path).mkdir(parents=True, exist_ok=True)\n",
    "        \n",
    "    # Create folders and move images and masks to the corresponding folders\n",
    "    for file_dir in img_paths:\n",
    "        if file_dir.endswith('.png'): # double check\n",
    "            shutil.move(file_dir, folder_name_path)\n",
    "    \n",
    "    for mask_dir in mask_paths:\n",
    "        if mask_dir.endswith('.png'): # double check\n",
    "            shutil.move(mask_dir, folder_name_annot_path)"
   ]
  },
  {
   "cell_type": "code",
   "execution_count": null,
   "id": "55de15ac",
   "metadata": {},
   "outputs": [],
   "source": []
  }
 ],
 "metadata": {
  "kernelspec": {
   "display_name": "Python 3 (ipykernel)",
   "language": "python",
   "name": "python3"
  },
  "language_info": {
   "codemirror_mode": {
    "name": "ipython",
    "version": 3
   },
   "file_extension": ".py",
   "mimetype": "text/x-python",
   "name": "python",
   "nbconvert_exporter": "python",
   "pygments_lexer": "ipython3",
   "version": "3.8.8"
  }
 },
 "nbformat": 4,
 "nbformat_minor": 5
}
