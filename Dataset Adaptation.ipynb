{
 "cells": [
  {
   "cell_type": "markdown",
   "id": "eefc3525-ab0c-49ae-b48c-a5a52a6ced0f",
   "metadata": {},
   "source": [
    "# From Intello to our usage : dataset adaptation\n",
    "This notebook only needs to be ran once. After this, the dataset is ready for our implementation."
   ]
  },
  {
   "cell_type": "markdown",
   "id": "f0dc4f82-32d2-4121-a617-082ad6cd49ab",
   "metadata": {},
   "source": [
    "### Imports"
   ]
  },
  {
   "cell_type": "code",
   "execution_count": 47,
   "id": "97dbba28-2afa-42af-b5f5-7a718c0c817b",
   "metadata": {},
   "outputs": [],
   "source": [
    "import json\n",
    "import os\n",
    "from PIL import Image, ImageDraw\n",
    "import numpy as np\n",
    "\n",
    "%matplotlib inline\n",
    "from matplotlib import pyplot as plt"
   ]
  },
  {
   "cell_type": "markdown",
   "id": "3d286fe2-3fd2-4126-a647-f569f86ea9c8",
   "metadata": {},
   "source": [
    "### Rewriting file directories"
   ]
  },
  {
   "cell_type": "code",
   "execution_count": 30,
   "id": "7ae3c495-c47c-465f-a4c8-39ece4c4ef0c",
   "metadata": {},
   "outputs": [],
   "source": [
    "base_dir_data = os.path.join('data')\n",
    "data_dirs = ['train.json', 'val.json', 'test.json']\n",
    "\n",
    "for data_dir in data_dirs:\n",
    "    \n",
    "    # Opening Json file with data and storing it in array\n",
    "    with open(os.path.join(base_dir_data, data_dir)) as json_file:\n",
    "        data_file = json.load(json_file)\n",
    "\n",
    "    # Modifying data\n",
    "    for image_data in data_file['images']:\n",
    "        image_data['file_name'] = image_data['file_name'].replace('datasets/INTELLO/solarPanels/v2/images_800x600/images/', '')\n",
    "\n",
    "    # Rewriting data back to file\n",
    "    with open(os.path.join(base_dir_data, data_dir), 'w') as outfile:\n",
    "        json.dump(data_file, outfile)"
   ]
  },
  {
   "cell_type": "markdown",
   "id": "1d236718-616f-4479-b785-0cb29515f010",
   "metadata": {},
   "source": [
    "### From polygon points to mask\n",
    "Our dataset is built different from the one in the tutorial we use for this project. The tutorial uses images and masks in image shape for the annotations. Ours is a list of points of a polygon for the annotations, so we fit ours to the method we're using through this function."
   ]
  },
  {
   "cell_type": "code",
   "execution_count": 53,
   "id": "554766b8-7050-4720-8267-6a6ddebf9563",
   "metadata": {},
   "outputs": [],
   "source": [
    "def pol_to_mask(img_width, img_height, pol_array):\n",
    "    img = Image.new('L', (img_width, img_height), 0)\n",
    "    ImageDraw.Draw(img).polygon(pol_array, outline=1, fill=1)\n",
    "    mask = np.array(img)\n",
    "    \n",
    "    return mask"
   ]
  },
  {
   "cell_type": "markdown",
   "id": "fea18d27-c278-491f-b0aa-175a5aa9c187",
   "metadata": {},
   "source": [
    "### Creating masks and exporting to masks directory\n",
    "As there are mulitple masks per image, to make it easier for now, we will just take all the masks in an image and put them all together as if we only had one mask."
   ]
  },
  {
   "cell_type": "code",
   "execution_count": 55,
   "id": "087c46aa-dc79-4f8c-b9c2-30b5dbb1d0e9",
   "metadata": {},
   "outputs": [],
   "source": [
    "# Image parameters\n",
    "width = 800\n",
    "height = 600\n",
    "\n",
    "for data_dir in data_dirs:\n",
    "\n",
    "    # Opening Json file with data and storing it in array\n",
    "    with open(os.path.join(base_dir_data, data_dir)) as json_file:\n",
    "        data_file = json.load(json_file)\n",
    "\n",
    "    # Modifying data\n",
    "    for annot_data in data_file['annotations']:\n",
    "        # Create mask as a numpy array\n",
    "        np_mask = pol_to_mask(width, height, annot_data['segmentation'][0])\n",
    "        \n",
    "        # Store mask\n",
    "        mask_name = str(annot_data['image_id']) + '.png'\n",
    "        mask_path = os.path.join(base_dir_data, 'masks', mask_name)\n",
    "        \n",
    "        # Check if we need to complete mask\n",
    "        if os.path.exists(mask_path):\n",
    "            # Import current mask\n",
    "            cur_mask = Image.open(mask_path)\n",
    "            # Convert image to numpy array\n",
    "            cur_mask_array = np.asarray(cur_mask)\n",
    "            # Merge both masks\n",
    "            np_mask = np.logical_or(np_mask, cur_mask_array)\n",
    "            \n",
    "        # Create image from array\n",
    "        im = Image.fromarray(np_mask)\n",
    "        \n",
    "        # Save image\n",
    "        im.save(mask_path)\n"
   ]
  }
 ],
 "metadata": {
  "kernelspec": {
   "display_name": "Python 3",
   "language": "python",
   "name": "python3"
  },
  "language_info": {
   "codemirror_mode": {
    "name": "ipython",
    "version": 3
   },
   "file_extension": ".py",
   "mimetype": "text/x-python",
   "name": "python",
   "nbconvert_exporter": "python",
   "pygments_lexer": "ipython3",
   "version": "3.8.8"
  }
 },
 "nbformat": 4,
 "nbformat_minor": 5
}
